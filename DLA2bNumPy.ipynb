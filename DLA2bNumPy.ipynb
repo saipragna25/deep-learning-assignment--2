{
  "nbformat": 4,
  "nbformat_minor": 0,
  "metadata": {
    "colab": {
      "provenance": [],
      "include_colab_link": true
    },
    "kernelspec": {
      "name": "python3",
      "display_name": "Python 3"
    },
    "language_info": {
      "name": "python"
    }
  },
  "cells": [
    {
      "cell_type": "markdown",
      "metadata": {
        "id": "view-in-github",
        "colab_type": "text"
      },
      "source": [
        "<a href=\"https://colab.research.google.com/github/saipragna25/deep-learning-assignment--2/blob/main/DLA2bNumPy.ipynb\" target=\"_parent\"><img src=\"https://colab.research.google.com/assets/colab-badge.svg\" alt=\"Open In Colab\"/></a>"
      ]
    },
    {
      "cell_type": "code",
      "execution_count": null,
      "metadata": {
        "id": "RqZL6hVLFLGZ"
      },
      "outputs": [],
      "source": [
        "import numpy as np"
      ]
    },
    {
      "cell_type": "code",
      "source": [
        "# Scalar vector multiplication\n",
        "\n",
        "a = np.array([5])\n",
        "b = np.array([4, 7, 6, 8])\n",
        "c = np.einsum('i, i -> i', a, b)\n",
        "print(a)\n",
        "print(b)\n",
        "print(c)"
      ],
      "metadata": {
        "colab": {
          "base_uri": "https://localhost:8080/"
        },
        "id": "c7HOe-ZsFatj",
        "outputId": "97ab20f8-8372-4e64-e11b-e76d36854df3"
      },
      "execution_count": null,
      "outputs": [
        {
          "output_type": "stream",
          "name": "stdout",
          "text": [
            "[5]\n",
            "[4 7 6 8]\n",
            "[20 35 30 40]\n"
          ]
        }
      ]
    },
    {
      "cell_type": "code",
      "source": [
        "# Vector vector multiplication\n",
        "\n",
        "a = np.random.randn(5, 8)\n",
        "b = np.random.randn(8, 4)\n",
        "c = np.einsum('ij, jk -> ik', a, b)\n",
        "print(a)\n",
        "print(b)\n",
        "print(c)"
      ],
      "metadata": {
        "colab": {
          "base_uri": "https://localhost:8080/"
        },
        "id": "lypdY6QAFcni",
        "outputId": "3955a3dc-7cb6-4474-835c-752664a80278"
      },
      "execution_count": null,
      "outputs": [
        {
          "output_type": "stream",
          "name": "stdout",
          "text": [
            "[[ 1.3960585   0.97844126  0.88753938  0.80409882 -0.6088345  -1.50380594\n",
            "   0.96206482  0.15230726]\n",
            " [ 0.55791506 -1.96737894 -0.39298678 -0.09845789 -1.36671916 -0.80223798\n",
            "   0.60903442 -0.46704067]\n",
            " [ 0.92375638 -1.28373665  0.59480626  1.80767792 -0.66204232 -0.86241941\n",
            "  -0.23920418  0.14108358]\n",
            " [-1.14489837  0.66840162 -1.9954993   1.15098781  0.15940575  0.17919279\n",
            "   1.23454932  0.80117634]\n",
            " [ 0.19731606  0.07508205  0.61144933 -0.01749494  1.75190351 -0.6435802\n",
            "  -0.2487277  -1.36656391]]\n",
            "[[-7.82354368e-02  2.03539969e+00 -8.06017899e-02  6.30980878e-01]\n",
            " [ 8.31554115e-01  7.76085844e-01 -1.86148575e+00 -3.85638669e-01]\n",
            " [ 6.98574032e-01 -6.90867944e-01 -8.89450413e-01 -9.45742883e-01]\n",
            " [ 7.65320379e-01  2.11899076e-01  2.69447964e-01 -8.56345693e-01]\n",
            " [ 5.44349993e-01  1.21686122e+00 -4.64659858e-01  1.70699176e+00]\n",
            " [-8.28761390e-02  1.37393193e+00  3.54487614e-01  1.08984428e+00]\n",
            " [ 1.78937431e-03  1.07578912e+00  1.09592884e+00 -3.51507907e-01]\n",
            " [-1.50385515e-01  1.39217383e+00 -4.81468154e-01 -5.82726791e-03]]\n",
            "[[ 1.71183805  1.59812969 -1.77579488 -4.04165989]\n",
            " [-2.63567421 -2.9009731   5.18329158 -1.8519421 ]\n",
            " [ 0.34864828 -1.19540326  1.945055   -3.0193435 ]\n",
            " [ 0.08589965  2.69459582  1.88977925 -0.04981067]\n",
            " [ 1.67280353 -0.88873574 -1.36104733  1.91673173]]\n"
          ]
        }
      ]
    },
    {
      "cell_type": "code",
      "source": [
        "# Outer product\n",
        "\n",
        "a = np.arange(2, 5)\n",
        "b = np.arange(4, 7)  \n",
        "op = np.einsum('i,j -> ij', a, b)\n",
        "print(a)\n",
        "print(b)\n",
        "print(op)"
      ],
      "metadata": {
        "colab": {
          "base_uri": "https://localhost:8080/"
        },
        "id": "SiKW6k1KFev4",
        "outputId": "cebdf4ce-08ee-4946-b65a-d78ac9b3ce5f"
      },
      "execution_count": null,
      "outputs": [
        {
          "output_type": "stream",
          "name": "stdout",
          "text": [
            "[2 3 4]\n",
            "[4 5 6]\n",
            "[[ 8 10 12]\n",
            " [12 15 18]\n",
            " [16 20 24]]\n"
          ]
        }
      ]
    },
    {
      "cell_type": "code",
      "source": [
        "# Scalar dot product\n",
        "\n",
        "a = np.arange(9).reshape(3, 3)\n",
        "b = np.arange(6).reshape(3, 2)\n",
        "sd = np.einsum('ij, jk ->', a, b)\n",
        "print(a)\n",
        "print(b)\n",
        "print(sd)"
      ],
      "metadata": {
        "colab": {
          "base_uri": "https://localhost:8080/"
        },
        "id": "mIOx2ysoFgtp",
        "outputId": "e5e12385-8f75-4c03-fd9d-7883762a3380"
      },
      "execution_count": null,
      "outputs": [
        {
          "output_type": "stream",
          "name": "stdout",
          "text": [
            "[[0 1 2]\n",
            " [3 4 5]\n",
            " [6 7 8]]\n",
            "[[0 1]\n",
            " [2 3]\n",
            " [4 5]]\n",
            "204\n"
          ]
        }
      ]
    },
    {
      "cell_type": "code",
      "source": [
        "# Hadamard product\n",
        "\n",
        "a = np.arange(6).reshape(2, 3)\n",
        "b = np.arange(6, 12).reshape(2, 3)\n",
        "hp = np.einsum('ij, ij -> ij', a, b)\n",
        "print(a)\n",
        "print(b)\n",
        "print(hp)"
      ],
      "metadata": {
        "colab": {
          "base_uri": "https://localhost:8080/"
        },
        "id": "6R8Ry3ExFjNZ",
        "outputId": "a0f22234-5e94-4840-96cd-5d9d3adbb6ec"
      },
      "execution_count": null,
      "outputs": [
        {
          "output_type": "stream",
          "name": "stdout",
          "text": [
            "[[0 1 2]\n",
            " [3 4 5]]\n",
            "[[ 6  7  8]\n",
            " [ 9 10 11]]\n",
            "[[ 0  7 16]\n",
            " [27 40 55]]\n"
          ]
        }
      ]
    },
    {
      "cell_type": "code",
      "source": [
        "# Batch matrix multiplication\n",
        "\n",
        "a = np.random.randn(3, 3, 2)\n",
        "b = np.random.randn(3, 2, 2)\n",
        "batch_matrix_mul = np.einsum('bij, bjk -> bik', a, b)\n",
        "print(a)\n",
        "print(b)\n",
        "print(batch_matrix_mul)"
      ],
      "metadata": {
        "colab": {
          "base_uri": "https://localhost:8080/"
        },
        "id": "q9THP3RRFla1",
        "outputId": "b092c1b6-1a51-4a3c-a9b8-11641743f9a0"
      },
      "execution_count": null,
      "outputs": [
        {
          "output_type": "stream",
          "name": "stdout",
          "text": [
            "[[[ 0.41614877 -0.46901919]\n",
            "  [ 1.92047587  1.19125178]\n",
            "  [-1.1584899  -0.00621304]]\n",
            "\n",
            " [[ 1.03124456 -0.18659855]\n",
            "  [ 1.04759456 -0.50662681]\n",
            "  [-0.95043172 -0.16957041]]\n",
            "\n",
            " [[ 2.44529083  0.48817838]\n",
            "  [ 0.26134204  0.72768367]\n",
            "  [-0.89990455 -0.62149405]]]\n",
            "[[[-0.22410509  0.40907658]\n",
            "  [-0.656979   -0.89062235]]\n",
            "\n",
            " [[ 1.09867099 -1.9657315 ]\n",
            "  [ 0.96914991 -0.14168104]]\n",
            "\n",
            " [[ 0.07061716  0.21275714]\n",
            "  [ 0.25630016  0.95805815]]]\n",
            "[[[ 0.2148747   0.58795569]\n",
            "  [-1.21301582 -0.27533376]\n",
            "  [ 0.26370533 -0.46837761]]\n",
            "\n",
            " [[ 0.9521565  -2.00071244]\n",
            "  [ 0.65996442 -1.98751021]\n",
            "  [-1.2085509   1.89231848]]\n",
            "\n",
            " [[ 0.29779969  0.98795636]\n",
            "  [ 0.20496067  0.75276566]\n",
            "  [-0.22283773 -0.78688856]]]\n"
          ]
        }
      ]
    },
    {
      "cell_type": "code",
      "source": [
        "# Tensor reduction\n",
        "\n",
        "a = np.random.randn(2, 3, 5, 7)\n",
        "b = np.random.randn(4, 1, 3, 11, 5)\n",
        "tensor_reduction = np.einsum('pqrs, tuqvr -> pstuv', a, b)\n",
        "print(a.shape, b.shape, tensor_reduction.shape)"
      ],
      "metadata": {
        "colab": {
          "base_uri": "https://localhost:8080/"
        },
        "id": "VQKeTPfTFmli",
        "outputId": "60262b4a-a0f2-4628-f088-3daa2fbb7b02"
      },
      "execution_count": null,
      "outputs": [
        {
          "output_type": "stream",
          "name": "stdout",
          "text": [
            "(2, 3, 5, 7) (4, 1, 3, 11, 5) (2, 7, 4, 1, 11)\n"
          ]
        }
      ]
    },
    {
      "cell_type": "code",
      "source": [
        "# Transpose\n",
        "\n",
        "a = np.arange(6).reshape(2, 3)\n",
        "transpose = np.einsum('ij -> ji', a)\n",
        "print(a)\n",
        "print(transpose)"
      ],
      "metadata": {
        "colab": {
          "base_uri": "https://localhost:8080/"
        },
        "id": "Sbmsyq1bFpyq",
        "outputId": "ce9beadb-fac1-441b-e013-0ed91c60d71e"
      },
      "execution_count": null,
      "outputs": [
        {
          "output_type": "stream",
          "name": "stdout",
          "text": [
            "[[0 1 2]\n",
            " [3 4 5]]\n",
            "[[0 3]\n",
            " [1 4]\n",
            " [2 5]]\n"
          ]
        }
      ]
    },
    {
      "cell_type": "code",
      "source": [
        "# Bilinear transformation\n",
        "\n",
        "a = np.random.randn(2, 3)\n",
        "b = np.random.randn(3, 3, 4)\n",
        "c = np.random.randn(2, 4)\n",
        "bilinear_transform = np.einsum('ik, jkl, il -> ij', a, b, c)\n",
        "print(a)\n",
        "print(b)\n",
        "print(c)\n",
        "print(bilinear_transform)"
      ],
      "metadata": {
        "colab": {
          "base_uri": "https://localhost:8080/"
        },
        "id": "nv7PFH-PFtL4",
        "outputId": "6aed3199-4804-47c2-fd74-41db16099e93"
      },
      "execution_count": null,
      "outputs": [
        {
          "output_type": "stream",
          "name": "stdout",
          "text": [
            "[[ 0.9749097   0.18706504  1.30561941]\n",
            " [-1.2511083   1.60841784 -1.54006544]]\n",
            "[[[ 1.00963028  1.53429206 -0.23501251 -0.46193143]\n",
            "  [-0.29852684  0.64917725 -0.86979383  0.17083853]\n",
            "  [ 0.33443553 -0.56488399  0.17252672  1.1085493 ]]\n",
            "\n",
            " [[-0.87655283  0.12576031 -0.98102679  0.29699933]\n",
            "  [ 0.11154076 -0.50190726 -0.7487725   0.30652496]\n",
            "  [-0.31151759 -0.17969732  0.03048806 -1.49243936]]\n",
            "\n",
            " [[-1.69983777 -0.1950042  -0.39693056  0.87909681]\n",
            "  [ 0.70947646  0.33577033 -1.92853131 -0.51732548]\n",
            "  [-1.37733773  0.49051505 -0.59943298 -0.28207507]]]\n",
            "[[ 0.65646287  0.23187594 -0.097599   -0.78253401]\n",
            " [ 1.19056613 -1.91934307  2.54484003 -0.78192966]]\n",
            "[[ 0.31118212  0.49446018 -2.2196586 ]\n",
            " [-5.49820282  1.45761876  3.25129634]]\n"
          ]
        }
      ]
    },
    {
      "cell_type": "code",
      "source": [
        "# Attention\n",
        "\n",
        "# Parameters\n",
        "# [hidden_dimension]\n",
        "bm = np.random.randn(7)\n",
        "br = np.random.randn(7) \n",
        "w = np.random.randn(7)\n",
        "# [hidden_dimension x hidden_dimension]\n",
        "WY = np.random.randn(7, 7)\n",
        "Wh = np.random.randn(7, 7)\n",
        "Wr = np.random.randn(7, 7)\n",
        "Wt = np.random.randn(7, 7)\n",
        "\n",
        "def attention(Y, ht, rt1):\n",
        "  # [batch_size x hidden_dimension] \n",
        "  tmp = np.einsum('ik, kl -> il', ht, Wh) + np.einsum('ik, kl -> il', rt1, Wr)\n",
        "\n",
        "  tmp_expanded = np.expand_dims(tmp, 1)\n",
        "  tmp_tiled = np.tile(tmp_expanded, [1, Y.shape[1], 1]) \n",
        "  Mt = np.tanh(np.einsum('ijk, kl -> ijl', Y, WY) + tmp_tiled + bm)\n",
        "  \n",
        "  # [batch_size x sequence_length]\n",
        "  at = np.einsum('ijk, k -> ij', Mt, w)\n",
        "  at = np.exp(at)/np.sum(np.exp(at))\n",
        "  \n",
        "  # [batch_size x hidden_dimension]\n",
        "  rt = np.einsum('ijk, ij -> ik', Y, at) + np.tanh(np.einsum('ij, jk -> ik', rt1, Wt) + br)\n",
        "  \n",
        "  return rt, at\n",
        "\n",
        "# Inputs - [batch_size x sequence_length x hidden_dimension]\n",
        "Y = np.random.randn(3,5,7)\n",
        "# [batch_size x hidden_dimension]\n",
        "ht = np.random.randn(3, 7)\n",
        "rt1 = np.random.randn(3, 7)\n",
        "\n",
        "rt, at = attention(Y, ht, rt1)\n",
        "\n",
        "print(at)"
      ],
      "metadata": {
        "colab": {
          "base_uri": "https://localhost:8080/"
        },
        "id": "mXQ27HwyFvwU",
        "outputId": "84456ee1-61ef-4678-bf63-7353cc7c1b7a"
      },
      "execution_count": null,
      "outputs": [
        {
          "output_type": "stream",
          "name": "stdout",
          "text": [
            "[[0.05656115 0.01801595 0.05694506 0.04890405 0.02830681]\n",
            " [0.04765451 0.06870138 0.03728298 0.05488482 0.07058679]\n",
            " [0.04342242 0.18440144 0.0916009  0.0545797  0.13815204]]\n"
          ]
        }
      ]
    },
    {
      "cell_type": "code",
      "source": [
        "# Treeqn\n",
        "\n",
        "def transition(zl):\n",
        "  # [batch_size x num_actions x hidden_dimension]\n",
        "  return np.expand_dims(zl, 1) + np.tanh(np.einsum('bk, aki -> bai', zl, W) + b)\n",
        "\n",
        "# Inputs - [batch_size x hidden_dimension]\n",
        "zl = np.random.rand(2, 3)\n",
        "# Parameters - [num_actions x hidden_dimension]\n",
        "b = np.random.rand(5, 3)\n",
        "# Actions - [num_actions x hidden_dimension x hidden_dimension]\n",
        "W = np.random.rand(5, 3, 3)\n",
        "\n",
        "transition(zl)"
      ],
      "metadata": {
        "colab": {
          "base_uri": "https://localhost:8080/"
        },
        "id": "rqwteeTRFyIE",
        "outputId": "a4650751-8b34-4b24-eae3-52c67ef8e420"
      },
      "execution_count": null,
      "outputs": [
        {
          "output_type": "execute_result",
          "data": {
            "text/plain": [
              "array([[[1.9119112 , 0.82990175, 1.38159061],\n",
              "        [1.89529432, 0.99052212, 1.38517942],\n",
              "        [1.52860945, 0.71923831, 1.12245308],\n",
              "        [1.7842578 , 0.85589596, 1.3686122 ],\n",
              "        [1.88244034, 0.85534427, 1.42833963]],\n",
              "\n",
              "       [[0.98441302, 0.8721689 , 1.30300321],\n",
              "        [0.96333069, 1.06523836, 1.24674372],\n",
              "        [0.7292631 , 0.66817753, 0.99187074],\n",
              "        [0.85203425, 0.83063427, 1.07830809],\n",
              "        [0.82394384, 0.63627892, 1.17947918]]])"
            ]
          },
          "metadata": {},
          "execution_count": 25
        }
      ]
    }
  ]
}