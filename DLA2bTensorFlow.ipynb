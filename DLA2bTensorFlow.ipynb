{
  "nbformat": 4,
  "nbformat_minor": 0,
  "metadata": {
    "colab": {
      "provenance": [],
      "include_colab_link": true
    },
    "kernelspec": {
      "name": "python3",
      "display_name": "Python 3"
    },
    "language_info": {
      "name": "python"
    }
  },
  "cells": [
    {
      "cell_type": "markdown",
      "metadata": {
        "id": "view-in-github",
        "colab_type": "text"
      },
      "source": [
        "<a href=\"https://colab.research.google.com/github/saipragna25/deep-learning-assignment--2/blob/main/DLA2bTensorFlow.ipynb\" target=\"_parent\"><img src=\"https://colab.research.google.com/assets/colab-badge.svg\" alt=\"Open In Colab\"/></a>"
      ]
    },
    {
      "cell_type": "code",
      "execution_count": null,
      "metadata": {
        "id": "uwWF9qka9Xkq"
      },
      "outputs": [],
      "source": [
        "import tensorflow as tf\n"
      ]
    },
    {
      "cell_type": "code",
      "source": [
        "# Scalar vector multiplication\n",
        "\n",
        "a = tf.random.normal([1])\n",
        "b = tf.random.normal([2, 3])\n",
        "c = tf.einsum('k, ij -> ij', a, b)\n",
        "print(a)\n",
        "print(b)\n",
        "print(c)"
      ],
      "metadata": {
        "colab": {
          "base_uri": "https://localhost:8080/"
        },
        "id": "xFEEKLsjECYF",
        "outputId": "bee00fba-5587-47f7-bf15-8368dfcaa23c"
      },
      "execution_count": null,
      "outputs": [
        {
          "output_type": "stream",
          "name": "stdout",
          "text": [
            "tf.Tensor([1.7226076], shape=(1,), dtype=float32)\n",
            "tf.Tensor(\n",
            "[[-0.9342518   0.43499368  0.46969807]\n",
            " [ 0.23835714  0.20810324  0.17501721]], shape=(2, 3), dtype=float32)\n",
            "tf.Tensor(\n",
            "[[-1.6093493   0.7493234   0.80910546]\n",
            " [ 0.41059583  0.35848022  0.301486  ]], shape=(2, 3), dtype=float32)\n"
          ]
        }
      ]
    },
    {
      "cell_type": "code",
      "source": [
        "# Vector vector multiplication\n",
        "\n",
        "a = tf.random.normal([2, 5])\n",
        "b = tf.random.normal([5, 3])\n",
        "c = tf.einsum('ij, jk -> ik', a, b)\n",
        "print(a)\n",
        "print(b)\n",
        "print(c)"
      ],
      "metadata": {
        "colab": {
          "base_uri": "https://localhost:8080/"
        },
        "id": "H5dL2dVEELFb",
        "outputId": "51e402e5-8520-4562-d578-1df5638da6f2"
      },
      "execution_count": null,
      "outputs": [
        {
          "output_type": "stream",
          "name": "stdout",
          "text": [
            "tf.Tensor(\n",
            "[[ 1.1287543   0.9050784   0.5453042  -0.17131087  0.28639725]\n",
            " [-0.69838727  0.9572083  -0.00735902  0.6077457  -0.20929974]], shape=(2, 5), dtype=float32)\n",
            "tf.Tensor(\n",
            "[[-0.06756408 -0.32423338 -0.93639344]\n",
            " [ 0.7388895   1.5911351   1.7158275 ]\n",
            " [ 1.4335731  -0.20571099 -0.54707336]\n",
            " [ 0.01393555 -1.6334486   1.409535  ]\n",
            " [ 0.1959109  -2.3951902  -1.8276837 ]], shape=(5, 3), dtype=float32)\n",
            "tf.Tensor(\n",
            "[[ 1.4279442   0.55579877 -0.5672333 ]\n",
            " [ 0.7113725   1.2595932   3.539568  ]], shape=(2, 3), dtype=float32)\n"
          ]
        }
      ]
    },
    {
      "cell_type": "code",
      "source": [
        "# Outer product\n",
        "\n",
        "a = tf.range(4)\n",
        "b = tf.range(3, 6)  \n",
        "op= tf.einsum('i,j -> ij', a, b)\n",
        "print(a)\n",
        "print(b)\n",
        "print(op)"
      ],
      "metadata": {
        "colab": {
          "base_uri": "https://localhost:8080/"
        },
        "id": "JPmDPFlyEbSR",
        "outputId": "350f00c1-dcf9-49ca-f4df-251fc511a928"
      },
      "execution_count": null,
      "outputs": [
        {
          "output_type": "stream",
          "name": "stdout",
          "text": [
            "tf.Tensor([0 1 2 3], shape=(4,), dtype=int32)\n",
            "tf.Tensor([3 4 5], shape=(3,), dtype=int32)\n",
            "tf.Tensor(\n",
            "[[ 0  0  0]\n",
            " [ 3  4  5]\n",
            " [ 6  8 10]\n",
            " [ 9 12 15]], shape=(4, 3), dtype=int32)\n"
          ]
        }
      ]
    },
    {
      "cell_type": "code",
      "source": [
        "# Scalar dot product\n",
        "\n",
        "a = tf.range(9)\n",
        "a = tf.reshape(a, [3, 3])\n",
        "\n",
        "b = tf.range(6)\n",
        "b = tf.reshape(b, [3, 2])\n",
        "\n",
        "sp= tf.einsum('ij, jk ->', a, b)\n",
        "print(a)\n",
        "print(b)\n",
        "print(sp)"
      ],
      "metadata": {
        "colab": {
          "base_uri": "https://localhost:8080/"
        },
        "id": "O6Mmj0PpExCv",
        "outputId": "2a73e654-1728-44ec-870b-c58a7a8a9181"
      },
      "execution_count": null,
      "outputs": [
        {
          "output_type": "stream",
          "name": "stdout",
          "text": [
            "tf.Tensor(\n",
            "[[0 1 2]\n",
            " [3 4 5]\n",
            " [6 7 8]], shape=(3, 3), dtype=int32)\n",
            "tf.Tensor(\n",
            "[[0 1]\n",
            " [2 3]\n",
            " [4 5]], shape=(3, 2), dtype=int32)\n",
            "tf.Tensor(204, shape=(), dtype=int32)\n"
          ]
        }
      ]
    },
    {
      "cell_type": "code",
      "source": [
        "# Hadamard product\n",
        "\n",
        "a = tf.range(8)\n",
        "a = tf.reshape(a, [2, 4])\n",
        "\n",
        "b = tf.range(4, 12)\n",
        "b = tf.reshape(b, [2, 4])\n",
        "\n",
        "hp = tf.einsum('ij, ij -> ij', a, b)\n",
        "print(a)\n",
        "print(b)\n",
        "print(hp)"
      ],
      "metadata": {
        "colab": {
          "base_uri": "https://localhost:8080/"
        },
        "id": "z4ryCzNcEz_C",
        "outputId": "99d81c67-013f-4b5e-d8c0-54218672e166"
      },
      "execution_count": null,
      "outputs": [
        {
          "output_type": "stream",
          "name": "stdout",
          "text": [
            "tf.Tensor(\n",
            "[[0 1 2 3]\n",
            " [4 5 6 7]], shape=(2, 4), dtype=int32)\n",
            "tf.Tensor(\n",
            "[[ 4  5  6  7]\n",
            " [ 8  9 10 11]], shape=(2, 4), dtype=int32)\n",
            "tf.Tensor(\n",
            "[[ 0  5 12 21]\n",
            " [32 45 60 77]], shape=(2, 4), dtype=int32)\n"
          ]
        }
      ]
    },
    {
      "cell_type": "code",
      "source": [
        "# Batch matrix multiplication\n",
        "\n",
        "a = tf.random.normal([3, 3, 2])\n",
        "b = tf.random.normal([3, 2, 2])\n",
        "batch_matrix_mult = tf.einsum('bij, bjk -> bik', a, b)\n",
        "print(a)\n",
        "print(b)\n",
        "print(batch_matrix_mult)"
      ],
      "metadata": {
        "colab": {
          "base_uri": "https://localhost:8080/"
        },
        "id": "yrChUbk2E2pt",
        "outputId": "5d673f15-2276-4af1-8f58-f26e74c6389b"
      },
      "execution_count": null,
      "outputs": [
        {
          "output_type": "stream",
          "name": "stdout",
          "text": [
            "tf.Tensor(\n",
            "[[[-0.79831696 -0.5608718 ]\n",
            "  [-0.6365953  -0.3362866 ]\n",
            "  [ 0.18526855  1.1763206 ]]\n",
            "\n",
            " [[-1.5665962  -0.18959999]\n",
            "  [ 0.4621799  -0.849461  ]\n",
            "  [-0.03851611  0.24402697]]\n",
            "\n",
            " [[ 0.35076648  0.4867204 ]\n",
            "  [-1.7544641   0.09368535]\n",
            "  [ 0.36936083 -0.8807448 ]]], shape=(3, 3, 2), dtype=float32)\n",
            "tf.Tensor(\n",
            "[[[-0.14962257 -1.0611172 ]\n",
            "  [ 0.62892425  0.9148574 ]]\n",
            "\n",
            " [[ 0.30756995  0.71091807]\n",
            "  [-0.33733064  0.30330318]]\n",
            "\n",
            " [[ 0.07255354 -0.8906138 ]\n",
            "  [ 0.6826315   0.6500684 ]]], shape=(3, 2, 2), dtype=float32)\n",
            "tf.Tensor(\n",
            "[[[-0.23329961  0.33399016]\n",
            "  [-0.11624977  0.36784795]\n",
            "  [ 0.7120962   0.87957394]]\n",
            "\n",
            " [[-0.41788    -1.1712278 ]\n",
            "  [ 0.42870188  0.0709278 ]\n",
            "  [-0.09416418  0.04663236]]\n",
            "\n",
            " [[ 0.35770002  0.00400409]\n",
            "  [-0.06334002  1.6234518 ]\n",
            "  [-0.5744257  -0.90150225]]], shape=(3, 3, 2), dtype=float32)\n"
          ]
        }
      ]
    },
    {
      "cell_type": "code",
      "source": [
        "# Tensor reduction\n",
        "\n",
        "a = tf.random.normal([2, 3, 5, 7])\n",
        "b = tf.random.normal([4, 1, 3, 11, 5])\n",
        "tensor_reduction = tf.einsum('pqrs, tuqvr -> pstuv', a, b)\n",
        "print(a.shape, b.shape, tensor_reduction.shape)"
      ],
      "metadata": {
        "colab": {
          "base_uri": "https://localhost:8080/"
        },
        "id": "KQKRJ9STE53y",
        "outputId": "af09d6b8-3b2e-4bb0-f9ac-2c7041249580"
      },
      "execution_count": null,
      "outputs": [
        {
          "output_type": "stream",
          "name": "stdout",
          "text": [
            "(2, 3, 5, 7) (4, 1, 3, 11, 5) (2, 7, 4, 1, 11)\n"
          ]
        }
      ]
    },
    {
      "cell_type": "code",
      "source": [
        "# Transpose\n",
        "\n",
        "a = tf.range(8)\n",
        "a = tf.reshape(a, [4, 2])\n",
        "transpose = tf.einsum('ij -> ji', a)\n",
        "print(a)\n",
        "print(transpose)"
      ],
      "metadata": {
        "colab": {
          "base_uri": "https://localhost:8080/"
        },
        "id": "pnDpeYTOE9R_",
        "outputId": "a4111a3e-f878-42d3-9415-6e66936b6c1f"
      },
      "execution_count": null,
      "outputs": [
        {
          "output_type": "stream",
          "name": "stdout",
          "text": [
            "tf.Tensor(\n",
            "[[0 1]\n",
            " [2 3]\n",
            " [4 5]\n",
            " [6 7]], shape=(4, 2), dtype=int32)\n",
            "tf.Tensor(\n",
            "[[0 2 4 6]\n",
            " [1 3 5 7]], shape=(2, 4), dtype=int32)\n"
          ]
        }
      ]
    },
    {
      "cell_type": "code",
      "source": [
        "# Bilinear transformation\n",
        "\n",
        "a = tf.random.normal([2, 3])\n",
        "b = tf.random.normal([3, 3, 4])\n",
        "c = tf.random.normal([2, 4])\n",
        "bilinear_transform = tf.einsum('ik, jkl, il -> ij', a, b, c)\n",
        "print(a)\n",
        "print(b)\n",
        "print(c)\n",
        "print(bilinear_transform)"
      ],
      "metadata": {
        "colab": {
          "base_uri": "https://localhost:8080/"
        },
        "id": "sx20MusvFAeh",
        "outputId": "f400407e-ba36-48ad-8afb-d80d63f77ec1"
      },
      "execution_count": null,
      "outputs": [
        {
          "output_type": "stream",
          "name": "stdout",
          "text": [
            "tf.Tensor(\n",
            "[[-0.17270324 -0.5429104   0.37630606]\n",
            " [ 1.2421558   0.00637581 -0.3373881 ]], shape=(2, 3), dtype=float32)\n",
            "tf.Tensor(\n",
            "[[[ 0.7742922  -1.0066106  -0.04442318  0.73226094]\n",
            "  [-1.5233927  -0.53423685  2.2534237   0.49974176]\n",
            "  [ 1.1917588  -1.0977249  -1.0606365   0.21791953]]\n",
            "\n",
            " [[ 0.65510654  0.12409268  0.38059717 -0.44599015]\n",
            "  [-0.68946207 -0.6839943  -0.05060837 -2.5965774 ]\n",
            "  [ 0.06529208  2.6057663  -1.652664    1.0221677 ]]\n",
            "\n",
            " [[-1.9080431   0.13037935  0.27996024  0.02008066]\n",
            "  [ 0.24206053 -1.0404192   0.55717236 -0.46767712]\n",
            "  [-1.0593919  -0.2217956   0.52762204 -0.23525468]]], shape=(3, 3, 4), dtype=float32)\n",
            "tf.Tensor(\n",
            "[[-0.00973633 -1.5148017  -1.6184989  -0.5454428 ]\n",
            " [-0.5452406  -0.02200092  0.52320296 -0.1824027 ]], shape=(2, 4), dtype=float32)\n",
            "tf.Tensor(\n",
            "[[ 2.697805   -1.9704584  -0.53497136]\n",
            " [-0.26765075  0.29265517  1.1636634 ]], shape=(2, 3), dtype=float32)\n"
          ]
        }
      ]
    },
    {
      "cell_type": "code",
      "source": [
        "# Attention\n",
        "\n",
        "# Parameters\n",
        "# [hidden_dimension]\n",
        "bM = tf.random.normal([7])\n",
        "br = tf.random.normal([7]) \n",
        "w = tf.random.normal([7])\n",
        "# [hidden_dimension x hidden_dimension]\n",
        "WY = tf.random.normal([7, 7])\n",
        "Wh = tf.random.normal([7, 7])\n",
        "Wr = tf.random.normal([7, 7])\n",
        "Wt = tf.random.normal([7, 7])\n",
        "\n",
        "def attention(Y, ht, rt1):\n",
        "  # [batch_size x hidden_dimension] \n",
        "  tmp = tf.einsum('ik, kl -> il', ht, Wh) + tf.einsum('ik, kl -> il', rt1, Wr)\n",
        "\n",
        "  tmp_expanded = tf.expand_dims(tmp, 1)\n",
        "  tmp_tiled = tf.tile(tmp_expanded, [1, Y.shape[1], 1]) \n",
        "  Mt = tf.tanh(tf.einsum('ijk, kl -> ijl', Y, WY) + tmp_tiled + bM)\n",
        "  \n",
        "  # [batch_size x sequence_length]\n",
        "  at = tf.nn.softmax(tf.einsum('ijk, k -> ij', Mt, w)) \n",
        "  \n",
        "  # [batch_size x hidden_dimension]\n",
        "  rt = tf.einsum('ijk, ij -> ik', Y, at) + tf.tanh(tf.einsum('ij, jk -> ik', rt1, Wt) + br)\n",
        "  \n",
        "  return rt, at\n",
        "\n",
        "# Inputs - [batch_size x sequence_length x hidden_dimension]\n",
        "Y = tf.random.normal([3,5,7])\n",
        "# [batch_size x hidden_dimension]\n",
        "ht = tf.random.normal([3, 7])\n",
        "rt1 = tf.random.normal([3, 7])\n",
        "\n",
        "rt, at = attention(Y, ht, rt1)\n",
        "\n",
        "print(at)"
      ],
      "metadata": {
        "colab": {
          "base_uri": "https://localhost:8080/"
        },
        "id": "3mQhHbb1FDIE",
        "outputId": "21bd1d25-b96c-4766-8ff2-5b6a78262ac6"
      },
      "execution_count": null,
      "outputs": [
        {
          "output_type": "stream",
          "name": "stdout",
          "text": [
            "tf.Tensor(\n",
            "[[0.05754606 0.1306329  0.05376851 0.03502229 0.7230302 ]\n",
            " [0.05213095 0.1951361  0.32913536 0.33406416 0.08953349]\n",
            " [0.48701498 0.07361506 0.19982888 0.01586944 0.22367163]], shape=(3, 5), dtype=float32)\n"
          ]
        }
      ]
    },
    {
      "cell_type": "code",
      "source": [
        "# Treeqn\n",
        "\n",
        "def transition(zl):\n",
        "  # [batch_size x num_actions x hidden_dimension]\n",
        "  return tf.expand_dims(zl, 1) + tf.tanh(tf.einsum('bk, aki -> bai', zl, W) + b)\n",
        "\n",
        "# Inputs - [batch_size x hidden_dimension]\n",
        "zl = tf.random.normal([2, 3])\n",
        "# Parameters - [num_actions x hidden_dimension]\n",
        "b = tf.random.normal([5, 3])\n",
        "# Actions - [num_actions x hidden_dimension x hidden_dimension]\n",
        "W = tf.random.normal([5, 3, 3])\n",
        "\n",
        "transition(zl)"
      ],
      "metadata": {
        "colab": {
          "base_uri": "https://localhost:8080/"
        },
        "id": "Km9kUU5tFGiw",
        "outputId": "42585b26-2e3f-44cd-a954-f6cba226134d"
      },
      "execution_count": null,
      "outputs": [
        {
          "output_type": "execute_result",
          "data": {
            "text/plain": [
              "<tf.Tensor: shape=(2, 5, 3), dtype=float32, numpy=\n",
              "array([[[ 1.1316481 , -1.2434161 , -1.9558408 ],\n",
              "        [ 0.66638875,  0.68937516, -0.23515421],\n",
              "        [ 0.6967683 , -1.278102  , -1.4446002 ],\n",
              "        [ 0.96370816, -0.5416503 , -0.10703498],\n",
              "        [ 0.30694658, -1.0906249 , -0.10415691]],\n",
              "\n",
              "       [[ 2.2245402 , -0.72556   , -2.2052698 ],\n",
              "        [ 0.30694443,  1.1429543 , -0.8224186 ],\n",
              "        [ 0.43862176, -0.71575177, -2.6624305 ],\n",
              "        [ 2.2352982 ,  0.5453552 , -0.760113  ],\n",
              "        [ 2.271305  , -0.7055013 , -0.75808597]]], dtype=float32)>"
            ]
          },
          "metadata": {},
          "execution_count": 13
        }
      ]
    }
  ]
}